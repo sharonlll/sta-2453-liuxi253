{
  "nbformat": 4,
  "nbformat_minor": 0,
  "metadata": {
    "colab": {
      "provenance": []
    },
    "kernelspec": {
      "name": "python3",
      "display_name": "Python 3"
    },
    "language_info": {
      "name": "python"
    }
  },
  "cells": [
    {
      "cell_type": "code",
      "execution_count": 60,
      "metadata": {
        "id": "meL-eG1kHiKz"
      },
      "outputs": [],
      "source": [
        "# preamble. \n",
        "import numpy as np # basic vector/matrix math\n",
        "import matplotlib.pyplot as plt # plotting and illustrations \n",
        "import seaborn as sns # advanced plotting and illustrations. \n",
        "import pandas as pd # data loading, saving, and general data manipulation. \n",
        "import scipy.stats as stats # inter alia, statistical distributions, functions and relevant objects.\n",
        "import scipy.optimize as optimize \n",
        "import torch # ML/AI model's and general optimization \n",
        "from sklearn.metrics import mean_squared_error\n",
        "import flm_model \n",
        "\n",
        "# regression model imports.  \n",
        "from sklearn.linear_model import LinearRegression\n",
        "from sklearn.linear_model import LogisticRegression\n"
      ]
    },
    {
      "cell_type": "markdown",
      "source": [
        "# STA 2453 Lab 2 Submission\n",
        "\n",
        "This lab notebook must be completed in the appropriate time during class and invigilated by the instructor. There are  3 parts in this evaluation, you must add both this notebook, and another generated `.py` file to the PR. \n",
        "\n",
        "Once the PR is in place, please tag both me and the TA in it. So in the end you will have two files. \n",
        "\n",
        "- `STA2453-Lab-2.ipynb`\n",
        "- `STA2453-Lab-2.py`\n",
        "\n",
        "Both of these are needed for a good submission. \n",
        "\n"
      ],
      "metadata": {
        "id": "cy8lXz8xHype"
      }
    },
    {
      "cell_type": "markdown",
      "source": [
        "\n",
        "\n",
        "\n",
        "\n",
        "---\n",
        "\n",
        "## Case Study: Modelling Student Survey Results from the University of Catania, Italy.\n",
        "---\n",
        "\n",
        "This data is collected from a survey of 270 students attending a statistics course at the Department of Economics and Business of the University of Catania in the academic year 2011/2012.  It\n",
        "     contains the following variables:\n",
        "\n",
        "- `GENDER` gender of the respondent\n",
        "\n",
        "- `HEIGHT` height of the respondent, measured in centimeters\n",
        "\n",
        "- `WEIGHT` weight of the respondent measure in kilograms. \n",
        "\n",
        "- `HEIGHT.F` height of the respondent's father measured in centimeters. \n",
        "\n",
        "---\n",
        "\n",
        "\n",
        "The dataset can be found here: \n",
        "\n",
        "`https://utstat.utoronto.ca/~pocucan/italian_students.csv`\n",
        "\n"
      ],
      "metadata": {
        "id": "SGEciGvQH7jr"
      }
    },
    {
      "cell_type": "markdown",
      "source": [
        "---\n",
        "\n",
        "## Part 1 Linear Regression \n",
        "---\n",
        "\n",
        "This part of the evaluation considers a linear regression model with an extension into a weighted counterpart.  \n",
        "\n",
        "We wish to assess the viability of this statement:\n",
        "\n",
        "`Can the height of the father predict the height of the child?` \n",
        "\n",
        "Load the dataset into a dataframe called `df`, grab the relevant columns as stated above. \n",
        "\n",
        "Next create two dataframes named `df_m` and `df_f` for male/female respectively. \n",
        "\n",
        "\n"
      ],
      "metadata": {
        "id": "zvZjHQmZJJt1"
      }
    },
    {
      "cell_type": "code",
      "source": [
        "# load the dataset and segment by reported gender. \n",
        "df = pd.read_csv(\"https://utstat.utoronto.ca/~pocucan/italian_students.csv\").iloc[:,1:]\n",
        "# just grab the relevant columns \n",
        "df_part1 = df[['HEIGHT','HEIGHT.F']]\n",
        "# segment by gender. \n",
        "df_m = df[df['GENDER']=='M']\n",
        "df_f = df[df['GENDER']=='F']\n",
        "df_m = df_m[['HEIGHT','HEIGHT.F']]\n",
        "df_f = df_f[['HEIGHT','HEIGHT.F']]"
      ],
      "metadata": {
        "id": "5gADh3OiHz5v"
      },
      "execution_count": 19,
      "outputs": []
    },
    {
      "cell_type": "code",
      "source": [
        "# plot the data in a pairplot using the seaborn package and title it appropriately. \n",
        "sns.pairplot(df)\n",
        "# give some comments on the structure of the data. \n",
        "\n",
        "# It seems that the height of father is highly correlated with the height of child, \n",
        "# but the data of them are splitted into two groups, different groups have different\n",
        "# slopes and intercepts."
      ],
      "metadata": {
        "id": "tpU7kBUVPief",
        "colab": {
          "base_uri": "https://localhost:8080/",
          "height": 391
        },
        "outputId": "604a127f-ff8b-476c-ae2d-d9d1b99f5fbe"
      },
      "execution_count": 17,
      "outputs": [
        {
          "output_type": "execute_result",
          "data": {
            "text/plain": [
              "<seaborn.axisgrid.PairGrid at 0x7fb49a11e190>"
            ]
          },
          "metadata": {},
          "execution_count": 17
        },
        {
          "output_type": "display_data",
          "data": {
            "text/plain": [
              "<Figure size 360x360 with 6 Axes>"
            ],
            "image/png": "[encoded data removed]"
          },
          "metadata": {
            "needs_background": "light"
          }
        }
      ]
    },
    {
      "cell_type": "markdown",
      "source": [
        "Plot the same data in a pairplot using the seaborn package. Title it approprietly, AND, \n",
        "color the points by the GENDER variable. \n",
        "- Females in red \n",
        "- Males in blue\n",
        "\n",
        "Give some comments on the structure of the data. Specifically whether the assumptions for a linear model fit are valid or not. "
      ],
      "metadata": {
        "id": "85krYb6G7kp3"
      }
    },
    {
      "cell_type": "code",
      "source": [
        "# plot the data with respective colours. \n",
        "colors = df['GENDER'].apply(lambda x: \"red\" if x == 'F' else 'blue')\n",
        "sns.pairplot(df_part1,plot_kws={'c':colors})\n",
        "# now give some comments on the structure of the data, \n",
        "# People are divided into two groups, the male and the female.\n",
        "# The father of male have higher height than the father of female, as well as their child.\n",
        "# The linear model assumption is valid since the distribution of x,y is normal,each y is independent,\n",
        "# the mean value of  𝑦  is a linear function of  𝑥 ,the variance of  𝑦  is the same for any  𝑥"
      ],
      "metadata": {
        "id": "_JT4urmaRUgd",
        "colab": {
          "base_uri": "https://localhost:8080/",
          "height": 391
        },
        "outputId": "06201587-7fbf-46a1-ec31-98e515e407d7"
      },
      "execution_count": 23,
      "outputs": [
        {
          "output_type": "execute_result",
          "data": {
            "text/plain": [
              "<seaborn.axisgrid.PairGrid at 0x7fb49789b410>"
            ]
          },
          "metadata": {},
          "execution_count": 23
        },
        {
          "output_type": "display_data",
          "data": {
            "text/plain": [
              "<Figure size 360x360 with 6 Axes>"
            ],
            "image/png": "[encoded data removed]"
          },
          "metadata": {
            "needs_background": "light"
          }
        }
      ]
    },
    {
      "cell_type": "markdown",
      "source": [
        "Fit a linear model using the following setup: \n",
        "`HEIGHT ~ HEIGHT.F`, ie. can the father's height predict the child's hight. Denote this linear model as \n",
        "`lm_general`, i.e. a linear model for the general dataset. \n",
        "\n",
        "Calculate the MSE of `lm_general`. "
      ],
      "metadata": {
        "id": "XH5L87pV8F4H"
      }
    },
    {
      "cell_type": "code",
      "source": [
        "# declare model. \n",
        "lm_general = LinearRegression() \n",
        "# fit model. \n",
        "X = df_part1[['HEIGHT.F']]\n",
        "y = df_part1['HEIGHT']\n",
        "lm_general.fit(X,y)\n",
        "# MSE. \n",
        "y_pred = lm_general.predict(X)\n",
        "mse = mean_squared_error(y,y_pred)\n",
        "print(\"MSE:\",mse)"
      ],
      "metadata": {
        "id": "6f2UsAcdT4dZ",
        "colab": {
          "base_uri": "https://localhost:8080/"
        },
        "outputId": "a7bf6806-a0f9-4241-cf81-c5efba00f060"
      },
      "execution_count": 28,
      "outputs": [
        {
          "output_type": "stream",
          "name": "stdout",
          "text": [
            "MSE: 81.54862159643423\n"
          ]
        }
      ]
    },
    {
      "cell_type": "markdown",
      "source": [
        "Fit two linear models using the same setup \n",
        "`HEIGHT ~ HEIGHT.F`, on the dataframes `df_m` and `df_f`, the two segmented by gender populations. \n",
        "\n",
        "You should have two different model objects, name them \n",
        "`lm_male` and `lm_female`. \n",
        "\n",
        "report the aggregate MSE for both models. Ie.\n",
        "- MSE_F\n",
        "- MSE_M  \n",
        "- MSE_AGGREGATE = MSE_F + MSE_M \n",
        "\n",
        "Comment on the difference between the MSE performance of these models vs the previous, general model. \n",
        "\n"
      ],
      "metadata": {
        "id": "sOMK9ing8fWp"
      }
    },
    {
      "cell_type": "code",
      "source": [
        "# declare models for each gender. \n",
        "lm_male = LinearRegression() \n",
        "lm_female = LinearRegression() \n",
        "# fit male\n",
        "X_m = df_m[['HEIGHT.F']]\n",
        "y_m = df_m['HEIGHT']\n",
        "lm_male.fit(X_m,y_m)\n",
        "# fit female \n",
        "X_f = df_f[['HEIGHT.F']]\n",
        "y_f = df_f['HEIGHT']\n",
        "lm_female.fit(X_f,y_f)"
      ],
      "metadata": {
        "id": "vD4J5yTCN43-",
        "colab": {
          "base_uri": "https://localhost:8080/"
        },
        "outputId": "f39cea44-a600-4d78-e12f-0d5ff1859a44"
      },
      "execution_count": 29,
      "outputs": [
        {
          "output_type": "execute_result",
          "data": {
            "text/plain": [
              "LinearRegression()"
            ]
          },
          "metadata": {},
          "execution_count": 29
        }
      ]
    },
    {
      "cell_type": "code",
      "source": [
        "# calculate MSE's\n",
        "y_pred_m = lm_male.predict(X_m)\n",
        "mse_m = mean_squared_error(y_m,y_pred_m)\n",
        "y_pred_f = lm_male.predict(X_f)\n",
        "mse_f = mean_squared_error(y_f,y_pred_f)\n",
        "print(\"MSE of male:\",mse_m)\n",
        "print(\"MSE of female:\",mse_f)\n",
        "print(\"MSE_AGGREGATE:\",mse_m+mse_f)\n",
        "\n",
        "# comment on results. \n",
        "# The MSE of male model is super small while the MSE of female model is super big,\n",
        "# which indicate the linear regression model performs well on the male dataset, the father's height can predict the male child's hight.\n",
        "# However, the female dataset performs bad(296.94),worse than the general model MSE. also, the aggregate MSE is bigger than the general\n",
        "# model as well."
      ],
      "metadata": {
        "id": "xYcq3CFEOXfz",
        "colab": {
          "base_uri": "https://localhost:8080/"
        },
        "outputId": "8fef2655-f54a-43ce-bb65-c45afce68275"
      },
      "execution_count": 31,
      "outputs": [
        {
          "output_type": "stream",
          "name": "stdout",
          "text": [
            "MSE of male: 11.312106388928369\n",
            "MSE of female: 296.9405553652711\n",
            "MSE_AGGREGATE: 308.2526617541995\n"
          ]
        }
      ]
    },
    {
      "cell_type": "markdown",
      "source": [
        "Render a scatter plot of `x=HEIGHT.F` and `y=HEIGHT` in grey points. \n",
        "\n",
        "- Plot the predicted fits of the `lm_general` model in black. (Black line)\n",
        "- Plot the predictive fits of the `lm_male` model in blue. (Blue line)\n",
        "- Plot the predictive fits of the `lm_female` model in red. (Red line) \n",
        "\n",
        "All superimposed on the same plot. So the plot should have grey points, one black line, one red line, and one blue line. Title it appropriately. \n",
        "\n",
        "Comment on how/why segmentation improves the model fit. Be sure to address the assumptions of a linear regression model. "
      ],
      "metadata": {
        "id": "1s2I_a8MW6wA"
      }
    },
    {
      "cell_type": "code",
      "source": [
        "# calculate y_hats. \n",
        "# have calculated above,y_pred,y_pred_m,y_pred_f"
      ],
      "metadata": {
        "id": "8pTMdmKgb4cT"
      },
      "execution_count": null,
      "outputs": []
    },
    {
      "cell_type": "code",
      "source": [
        "# Plot the fits of the lm models, you need three lines, one blue, one black, and one red.  \n",
        "# points are in grey.  \n",
        "def plot_motor_grey(df): \n",
        "    color = \"grey\" \n",
        "    sns.scatterplot(x=df['HEIGHT.F'], y = df['HEIGHT'], \n",
        "                     color = color, \n",
        "                     s = 5.0) \n",
        "def plot_motor_lr(df, y_hat,c): \n",
        "\n",
        "    df[\"y_hat\"] = y_hat \n",
        "    sns.scatterplot(x = df['HEIGHT.F'], \n",
        "                y = df[\"y_hat\"], \n",
        "                color = c, \n",
        "                s = 6,\n",
        "                edgecolor = \"black\")\n",
        "\n",
        "plot_motor_grey(df_part1)\n",
        "plot_motor_lr(df_part1, y_pred,'black') \n",
        "plot_motor_lr(df_m, y_pred_m,'blue')\n",
        "plot_motor_lr(df_f, y_pred_f,'red')\n",
        "plt.title(\"three linear model HEIGHT ~ HEIGHT.F\");\n",
        "# don't forget to title it correctly! \n"
      ],
      "metadata": {
        "id": "cA5q3GOocaML",
        "colab": {
          "base_uri": "https://localhost:8080/",
          "height": 419
        },
        "outputId": "e54387a1-2adc-4aa4-e77e-c6f8eb10f35b"
      },
      "execution_count": 57,
      "outputs": [
        {
          "output_type": "stream",
          "name": "stderr",
          "text": [
            "/usr/local/lib/python3.7/dist-packages/ipykernel_launcher.py:10: SettingWithCopyWarning: \n",
            "A value is trying to be set on a copy of a slice from a DataFrame.\n",
            "Try using .loc[row_indexer,col_indexer] = value instead\n",
            "\n",
            "See the caveats in the documentation: https://pandas.pydata.org/pandas-docs/stable/user_guide/indexing.html#returning-a-view-versus-a-copy\n",
            "  # Remove the CWD from sys.path while we load stuff.\n"
          ]
        },
        {
          "output_type": "display_data",
          "data": {
            "text/plain": [
              "<Figure size 432x288 with 1 Axes>"
            ],
            "image/png": "[encoded data removed]"
          },
          "metadata": {
            "needs_background": "light"
          }
        }
      ]
    },
    {
      "cell_type": "markdown",
      "source": [
        "---\n",
        "# Part 2 Logistic and Weighted Linear Regression \n",
        "---\n",
        "\n",
        "Fit a logistic regression model predicting gender as `GENDER ~ WEIGHT`, name it `lm_logreg`. \n",
        "\n",
        "Render a scatter plot with the `x=HEIGHT.F`, `y=HEIGHT` with the points colored by the predicted gender of the `lm_logreg` model. \n",
        "- Females in red. \n",
        "- Males in blue. \n",
        "\n",
        "Using the visual, comment on the performance of the logistic regression to segment populations. Use one of subplots for the pairplot in Part 1 to justify the performance of the model. "
      ],
      "metadata": {
        "id": "riyuCnIZ9vkB"
      }
    },
    {
      "cell_type": "code",
      "source": [
        "# do a logistic model predicting GENDER \n",
        "Xr = df[['WEIGHT']]\n",
        "gender = df['GENDER']\n",
        "lm_logreg = LogisticRegression()\n",
        "lm_logreg.fit(Xr, gender)\n",
        "# predict class. \n",
        "gender_hat = lm_logreg.predict(Xr)\n",
        "# free function to help you with creating colors just for you. \n",
        "def map_colors(x): \n",
        "  if x == \"F\":\n",
        "    return \"red\"\n",
        "  else: \n",
        "    return \"blue\"\n",
        "\n",
        "# create color np.array \n",
        "df['gender_hat'] = gender_hat\n",
        "colors = df['gender_hat'].apply(lambda x: \"red\" if x == 'F' else 'blue')\n",
        "colors"
      ],
      "metadata": {
        "id": "zFGPBL0nd2nn",
        "colab": {
          "base_uri": "https://localhost:8080/"
        },
        "outputId": "395c30b8-1d56-4cd3-8781-7acefbf56500"
      },
      "execution_count": 44,
      "outputs": [
        {
          "output_type": "execute_result",
          "data": {
            "text/plain": [
              "0      blue\n",
              "1      blue\n",
              "2      blue\n",
              "3      blue\n",
              "4       red\n",
              "       ... \n",
              "265     red\n",
              "266     red\n",
              "267    blue\n",
              "268     red\n",
              "269     red\n",
              "Name: gender_hat, Length: 270, dtype: object"
            ]
          },
          "metadata": {},
          "execution_count": 44
        }
      ]
    },
    {
      "cell_type": "code",
      "source": [
        "# plot scatter plot with logistic regression labels by color. \n",
        "sns.scatterplot(x = df['HEIGHT.F'], \n",
        "                    y = df.HEIGHT, \n",
        "                    edgecolor = 'black',\n",
        "                    s=5.0, hue = colors)\n",
        "# comment on the results. \n",
        "# Most of the labels are correct,but some are still incorrect, especiallly the points around the middle of the plot."
      ],
      "metadata": {
        "id": "szXFRst0fFq8",
        "colab": {
          "base_uri": "https://localhost:8080/",
          "height": 296
        },
        "outputId": "35ab64ab-86ce-4be0-ce3a-b5167475ae59"
      },
      "execution_count": 49,
      "outputs": [
        {
          "output_type": "execute_result",
          "data": {
            "text/plain": [
              "<matplotlib.axes._subplots.AxesSubplot at 0x7fb496db4550>"
            ]
          },
          "metadata": {},
          "execution_count": 49
        },
        {
          "output_type": "display_data",
          "data": {
            "text/plain": [
              "<Figure size 432x288 with 1 Axes>"
            ],
            "image/png": "[encoded data removed]"
          },
          "metadata": {
            "needs_background": "light"
          }
        }
      ]
    },
    {
      "cell_type": "markdown",
      "source": [
        "Acquire the probabilities from the logistic regression model, denote the probability matrix `Z`. The matrix should be `(270,2)` in shape, each entry denoting the probability for each observation `i` belonging to group `g`. ie. `z_ig`. \n",
        "\n",
        "For each column, create two weighted linear regression models denoted as `lm_female_weighted` and `lm_male_weighted`."
      ],
      "metadata": {
        "id": "Ly7lf2qS-wCo"
      }
    },
    {
      "cell_type": "code",
      "source": [
        "# calculate the weights of a logistic model, then use them for a weighted regression. \n",
        "Z= lm_logreg.predict_proba(Xr)\n",
        "# declare the weighted models. \n",
        "lm_female_weighted = LinearRegression() \n",
        "lm_male_weighted = LinearRegression() \n",
        "# fit the models. \n",
        "weights_1 = Z[:,0]\n",
        "weights_2 = Z[:,1]\n",
        "lm_female_weighted.fit(X,y, sample_weight = weights_1)\n",
        "lm_male_weighted.fit(X,y, sample_weight = weights_2)"
      ],
      "metadata": {
        "id": "lZJnY8sPfhoz",
        "colab": {
          "base_uri": "https://localhost:8080/"
        },
        "outputId": "b59060be-2b38-42bc-c2fa-48b6de3fef95"
      },
      "execution_count": 53,
      "outputs": [
        {
          "output_type": "execute_result",
          "data": {
            "text/plain": [
              "LinearRegression()"
            ]
          },
          "metadata": {},
          "execution_count": 53
        }
      ]
    },
    {
      "cell_type": "markdown",
      "source": [
        "Plot the data points in grey, plot the predicted fits of the general population for each linear model. \n",
        "\n",
        "- `lm_male_weighted` prediction in blue (blue line)\n",
        "- `lm_female_weighted` prediction in red (red line)\n",
        "\n",
        "Title it appropriately and comment on the weighted model fits compared to the `lm_general` model. "
      ],
      "metadata": {
        "id": "EqNCgXqOAUj9"
      }
    },
    {
      "cell_type": "code",
      "source": [
        "# Plot the fits of the lm models. \n",
        "y_pred_mw = lm_male_weighted.predict(X)\n",
        "y_pred_fw = lm_female_weighted.predict(X)\n",
        "plot_motor_grey(df_part1)\n",
        "plot_motor_lr(df, y_pred_mw,'blue')\n",
        "plot_motor_lr(df, y_pred_fw,'red')\n",
        "plt.title(\"two weighted linear model HEIGHT ~ HEIGHT.F\");\n",
        "# comment on the results of the weighted linear regression. \n",
        "\n",
        "# This plot fits well, it can be seen that two groups of the data are divided, \n",
        "# one is for male and one is for female, and both fitted lines indicate that the\n",
        "# father's height predict the child's hight, depite the child is a girl or a boy. \n",
        "# Compared to the lm_general model, apparently the weighted model fits better."
      ],
      "metadata": {
        "id": "0IM6yXO_hpkW",
        "colab": {
          "base_uri": "https://localhost:8080/",
          "height": 295
        },
        "outputId": "fd761784-4e70-4bcc-d241-a1fa97218583"
      },
      "execution_count": 59,
      "outputs": [
        {
          "output_type": "display_data",
          "data": {
            "text/plain": [
              "<Figure size 432x288 with 1 Axes>"
            ],
            "image/png": "[encoded data removed]"
          },
          "metadata": {
            "needs_background": "light"
          }
        }
      ]
    },
    {
      "cell_type": "markdown",
      "source": [
        "---\n",
        "## Part 3: Finite Mixture Modelling \n",
        "---\n",
        "\n",
        "Fit an appropriate finite mixture model to the dataset. Determine the optimal number of components `G` using BIC.\n",
        "\n",
        "To achieve a 4 you must appropriately model both the conditional distribution of `HEIGHT ~ HEIGHT.F` and the covariate distribution for `HEIGHT.F` within the context of a finite mixture model. "
      ],
      "metadata": {
        "id": "dcBzPoNupw5w"
      }
    },
    {
      "cell_type": "code",
      "source": [
        "# declare X,y \n",
        "G = 2\n",
        "X = df_part1['HEIGHT.F']\n",
        "y = df_part1['HEIGHT']\n",
        "# set up tensor such that y is in the first column.\n",
        "data_s = df_part1[['HEIGHT','HEIGHT.F']].to_numpy()\n",
        "data_s = torch.Tensor(data_s)\n",
        "# scale the data. \n",
        "data_s = (data_s - data_s.mean())/data_s.std()  \n",
        "# declare the model. \n",
        "flm = flm_model.FiniteLinearModel(G=G, data=data_s)\n",
        "# train the model with appropriate lr and max_iterations. \n",
        "flm.train(lr=1e-3, max_iterations=1000)\n",
        "print(\"BIC\",flm.BIC())\n",
        "# do it again with multiple settings of G to figure out which one is the best. \n",
        "# Report the BIC results for multiple G's. \n",
        "# Smaller BIC is better by the criterion.   G=1 is the best\n",
        "# G= 1 BIC=-918.26\n",
        "# G= 2 BIC=-907.29\n",
        "# G= 3 BIC=-833.98\n",
        "# G= 4 BIC=-887.45\n",
        "# G= 5 BIC=-830.42"
      ],
      "metadata": {
        "id": "azFNHIX7i6Io",
        "colab": {
          "base_uri": "https://localhost:8080/"
        },
        "outputId": "07ce93da-d2ec-45f9-a3b7-9c56c9e5f34c"
      },
      "execution_count": 83,
      "outputs": [
        {
          "output_type": "stream",
          "name": "stderr",
          "text": [
            "Model Training:  14%|█▍        | 138/1000 [00:00<00:01, 686.72it/s]"
          ]
        },
        {
          "output_type": "stream",
          "name": "stdout",
          "text": [
            "Loss: 745.8035278320312  λ: 0.001\n",
            "Loss: 617.093505859375  λ: 0.001\n"
          ]
        },
        {
          "output_type": "stream",
          "name": "stderr",
          "text": [
            "Model Training:  28%|██▊       | 283/1000 [00:00<00:01, 705.82it/s]"
          ]
        },
        {
          "output_type": "stream",
          "name": "stdout",
          "text": [
            "Loss: 550.3428955078125  λ: 0.001\n",
            "Loss: 509.95440673828125  λ: 0.001\n"
          ]
        },
        {
          "output_type": "stream",
          "name": "stderr",
          "text": [
            "Model Training:  50%|█████     | 501/1000 [00:00<00:00, 710.24it/s]"
          ]
        },
        {
          "output_type": "stream",
          "name": "stdout",
          "text": [
            "Loss: 483.5112609863281  λ: 0.001\n",
            "Loss: 465.4007873535156  λ: 0.001\n"
          ]
        },
        {
          "output_type": "stream",
          "name": "stderr",
          "text": [
            "Model Training:  71%|███████   | 711/1000 [00:01<00:00, 676.91it/s]"
          ]
        },
        {
          "output_type": "stream",
          "name": "stdout",
          "text": [
            "Loss: 452.45831298828125  λ: 0.001\n",
            "Loss: 442.7141418457031  λ: 0.001\n"
          ]
        },
        {
          "output_type": "stream",
          "name": "stderr",
          "text": [
            "Model Training:  93%|█████████▎| 934/1000 [00:01<00:00, 710.89it/s]"
          ]
        },
        {
          "output_type": "stream",
          "name": "stdout",
          "text": [
            "Loss: 434.9985656738281  λ: 0.001\n",
            "Loss: 428.5975341796875  λ: 0.001\n"
          ]
        },
        {
          "output_type": "stream",
          "name": "stderr",
          "text": [
            "\rModel Training: 100%|██████████| 1000/1000 [00:01<00:00, 703.44it/s]"
          ]
        },
        {
          "output_type": "stream",
          "name": "stdout",
          "text": [
            "BIC -890.8920288085938\n"
          ]
        },
        {
          "output_type": "stream",
          "name": "stderr",
          "text": [
            "\n"
          ]
        }
      ]
    },
    {
      "cell_type": "markdown",
      "source": [
        "### Plot Mixture Model Results \n",
        "\n",
        "Acquire the labels of the model by taking the maximum of the a-posteriori. (MAP) Render a scatter plot of \n",
        "`x=HEIGHT.F`, `y=HEIGHT`, with the colors being the labels given by the MAP's. \n",
        "\n",
        "- Males should be colored in blue.\n",
        "- Females should be colored in red. \n",
        "\n",
        "comment on the ability of the finite mixture model to segment the population in an unsupervised manner. "
      ],
      "metadata": {
        "id": "bN81mKilFxv4"
      }
    },
    {
      "cell_type": "code",
      "source": [
        "# get MAP labels. \n",
        "labels = flm.MAP(flm.X, flm.y)\n",
        "# declare colours and plot HEIGHT.F vs HEIGHT. \n",
        "sns.scatterplot(x = df['HEIGHT.F'], \n",
        "                    y = df.HEIGHT, \n",
        "                    edgecolor = 'black',\n",
        "                    s=5.0, hue = labels)\n",
        "# the performance is worse than the logistic regression, most of data is identified as blue color,\n",
        "# only a small group of data is red."
      ],
      "metadata": {
        "id": "1bB1jDD0rMdb",
        "colab": {
          "base_uri": "https://localhost:8080/",
          "height": 296
        },
        "outputId": "efebc843-cd3e-4b80-e38b-a3c4a5eaa619"
      },
      "execution_count": 86,
      "outputs": [
        {
          "output_type": "execute_result",
          "data": {
            "text/plain": [
              "<matplotlib.axes._subplots.AxesSubplot at 0x7fb497145390>"
            ]
          },
          "metadata": {},
          "execution_count": 86
        },
        {
          "output_type": "display_data",
          "data": {
            "text/plain": [
              "<Figure size 432x288 with 1 Axes>"
            ],
            "image/png": "[encoded data removed]"
          },
          "metadata": {
            "needs_background": "light"
          }
        }
      ]
    },
    {
      "cell_type": "markdown",
      "source": [
        "### Classification Table\n",
        "Use the following function (`table_counts`) to create a classification table. \n",
        "Pass in the GENDER column as well as the output of the MAP labels, and comment on the ability of the Finite mixture model to correctly classify the sub-populations. \n"
      ],
      "metadata": {
        "id": "1ILJ6gDvlJMF"
      }
    },
    {
      "cell_type": "code",
      "source": [
        "def table_counts(x: np.array, y: np.array, labels=[\"x\",\"y\"]) -> None:\n",
        "  \"\"\"\n",
        "    Creates a classification table to visually assess misclassification. \n",
        "  \"\"\"\n",
        "\n",
        "  table_df = pd.DataFrame({labels[0]: x, labels[1]: y})\n",
        "  print(table_df.groupby(labels).size().unstack())\n",
        "\n",
        "# get the classification table. \n",
        "table_counts(df['GENDER'],labels)\n",
        "\n",
        "# comment on the performance of the finite mixture model. \n",
        "# most of the points are correct, while 52 points are incorrect, \n",
        "# the number of 'zeroes' is more than the number of 'ones'.\n",
        "# in general, the mixture model performs well, but still need improve."
      ],
      "metadata": {
        "id": "0iX35XErtvfh",
        "colab": {
          "base_uri": "https://localhost:8080/"
        },
        "outputId": "747f52c1-c0ed-4df6-c698-824dce67a937"
      },
      "execution_count": 87,
      "outputs": [
        {
          "output_type": "stream",
          "name": "stdout",
          "text": [
            "y      0     1\n",
            "x             \n",
            "F  151.0   NaN\n",
            "M   52.0  67.0\n"
          ]
        }
      ]
    }
  ]
}